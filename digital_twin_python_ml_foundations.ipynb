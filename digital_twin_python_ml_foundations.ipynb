{
 "cells": [
  {
   "cell_type": "markdown",
   "id": "01bd583a",
   "metadata": {},
   "source": [
    "# Digital Twin Python & ML Foundations Notebook\n",
    "Get hands-on with Python basics, descriptive statistics, and machine learning concepts commonly used when building digital twins."
   ]
  },
  {
   "cell_type": "markdown",
   "id": "6efffbd7",
   "metadata": {},
   "source": [
    "## Learning Objectives\n",
    "- Refresh core Python syntax for data analysis tasks.\n",
    "- Practice computing mean, median, and mode with pure Python and pandas.\n",
    "- Follow the end-to-end steps of a simple machine learning workflow.\n",
    "- Explore supervised, unsupervised, and reinforcement learning concepts relevant to digital twins.\n",
    "- Complete short exercises to solidify each concept."
   ]
  },
  {
   "cell_type": "markdown",
   "id": "df4c4157",
   "metadata": {},
   "source": [
    "## Setup Checklist\n",
    "Make sure the following packages are available (install with `pip install pandas numpy scikit-learn matplotlib seaborn` if needed)."
   ]
  },
  {
   "cell_type": "code",
   "execution_count": null,
   "id": "6e50c755",
   "metadata": {},
   "outputs": [],
   "source": [
    "# Core libraries used throughout the notebook\n",
    "import math\n",
    "import random\n",
    "from collections import Counter\n",
    "\n",
    "import numpy as np\n",
    "import pandas as pd\n",
    "from sklearn.model_selection import train_test_split\n",
    "from sklearn.linear_model import LinearRegression\n",
    "from sklearn.ensemble import RandomForestClassifier\n",
    "from sklearn.cluster import KMeans\n",
    "from sklearn.metrics import mean_squared_error, classification_report"
   ]
  },
  {
   "cell_type": "markdown",
   "id": "85259234",
   "metadata": {},
   "source": [
    "## 1. Python Refresher\n",
    "Python is often the glue language for digital twins. Let us revisit fundamental elements such as variables, lists, loops, and functions.\n",
    "\n",
    "### Key Concepts\n",
    "- Variables & data types (int, float, string, bool).\n",
    "- Lists, tuples, dictionaries for sensor data and configuration.\n",
    "- Control flow (`if`, `for`, `while`) for decision logic.\n",
    "- Functions to encapsulate transformation steps."
   ]
  },
  {
   "cell_type": "code",
   "execution_count": null,
   "id": "c1828207",
   "metadata": {},
   "outputs": [],
   "source": [
    "# Simple Python recap: managing sensor readings\n",
    "sensor_readings = [22.1, 22.5, 22.0, 21.9, 22.3]\n",
    "\n",
    "def add_reading(readings, new_value):\n",
    "    \"\"\"Append a new sensor value if it is within acceptable bounds.\"\"\"\n",
    "    if 15 <= new_value <= 35:  # simple validation\n",
    "        readings.append(new_value)\n",
    "    return readings\n",
    "\n",
    "for value in [22.7, 23.4, 14.2]:\n",
    "    add_reading(sensor_readings, value)\n",
    "\n",
    "sensor_readings"
   ]
  },
  {
   "cell_type": "markdown",
   "id": "aabb7b26",
   "metadata": {},
   "source": [
    "### Exercise 1\n",
    "1. Create a dictionary representing a machine with keys: `name`, `location`, `status`.\n",
    "2. Write a function `toggle_status(machine)` that flips the status between `'online'` and `'offline'`.\n",
    "3. Use a loop to simulate five toggles and print the status history."
   ]
  },
  {
   "cell_type": "markdown",
   "id": "7efe2010",
   "metadata": {},
   "source": [
    "## 2. Descriptive Statistics: Mean, Median, Mode\n",
    "Digital twins require summarising sensor feeds. Mean, median, and mode provide quick insights.\n",
    "\n",
    "### Definitions\n",
    "- **Mean**: Arithmetic average. Sensitive to outliers.\n",
    "- **Median**: Middle value when sorted. Robust to extremes.\n",
    "- **Mode**: Most frequent value. Useful for categorical states.\n",
    "\n",
    "We will compute these using both pure Python and pandas."
   ]
  },
  {
   "cell_type": "code",
   "execution_count": null,
   "id": "30cb8459",
   "metadata": {},
   "outputs": [],
   "source": [
    "# Sample vibration amplitude readings (mm/s)\n",
    "vibration = [3.2, 3.5, 3.1, 3.6, 3.2, 3.3, 3.2, 5.0]\n",
    "\n",
    "mean_value = sum(vibration) / len(vibration)\n",
    "sorted_values = sorted(vibration)\n",
    "mid = len(sorted_values) // 2\n",
    "median_value = (sorted_values[mid] + sorted_values[~mid]) / 2  # works for even/odd\n",
    "mode_value = Counter(vibration).most_common(1)[0][0]\n",
    "\n",
    "stats_summary = pd.Series(vibration).describe()\n",
    "\n",
    "mean_value, median_value, mode_value, stats_summary"
   ]
  },
  {
   "cell_type": "markdown",
   "id": "39cceb5b",
   "metadata": {},
   "source": [
    "### Exercise 2\n",
    "1. Create a list of hourly energy consumption readings (kWh).\n",
    "2. Compute mean, median, and mode with Python.\n",
    "3. Use `pandas.Series(value_list).plot(kind='hist')` to visualise the distribution (requires matplotlib)."
   ]
  },
  {
   "cell_type": "markdown",
   "id": "482354bc",
   "metadata": {},
   "source": [
    "## 3. Basic Machine Learning Workflow\n",
    "Typical steps when creating predictive components for a digital twin:\n",
    "1. **Problem Definition**: e.g., predict temperature 5 minutes ahead.\n",
    "2. **Data Collection**: sensors, logs, simulations.\n",
    "3. **Feature Engineering**: rolling averages, gradients, domain heuristics.\n",
    "4. **Model Selection & Training**: choose algorithm, fit on historical data.\n",
    "5. **Evaluation**: error metrics, confusion matrix, cross-validation.\n",
    "6. **Deployment & Monitoring**: integrate with twin runtime, track drift."
   ]
  },
  {
   "cell_type": "code",
   "execution_count": null,
   "id": "25f7209e",
   "metadata": {},
   "outputs": [],
   "source": [
    "# Generate a small synthetic dataset: ambient temperature vs. cooling load\n",
    "np.random.seed(42)\n",
    "ambient_temp = np.random.normal(loc=25, scale=3, size=120)\n",
    "cooling_load = 0.8 * ambient_temp + np.random.normal(loc=0, scale=1.5, size=120)\n",
    "data = pd.DataFrame({\n",
    "    'ambient_temp': ambient_temp,\n",
    "    'cooling_load': cooling_load\n",
    "})\n",
    "data.head()"
   ]
  },
  {
   "cell_type": "code",
   "execution_count": null,
   "id": "a560d662",
   "metadata": {},
   "outputs": [],
   "source": [
    "# Split into features (X) and target (y)\n",
    "X = data[['ambient_temp']]\n",
    "y = data['cooling_load']\n",
    "X_train, X_test, y_train, y_test = train_test_split(X, y, test_size=0.2, random_state=42)\n",
    "\n",
    "# Train a simple regression model\n",
    "regressor = LinearRegression()\n",
    "regressor.fit(X_train, y_train)\n",
    "\n",
    "# Evaluate\n",
    "predictions = regressor.predict(X_test)\n",
    "rmse = math.sqrt(mean_squared_error(y_test, predictions))\n",
    "rmse"
   ]
  },
  {
   "cell_type": "markdown",
   "id": "9ae2ebe2",
   "metadata": {},
   "source": [
    "### Exercise 3\n",
    "1. Add a new feature `humidity` (random values 40-60%).\n",
    "2. Retrain the regression model with both features and compare the RMSE.\n",
    "3. Plot predicted vs. actual cooling load scatter plot to inspect errors."
   ]
  },
  {
   "cell_type": "markdown",
   "id": "778ad97b",
   "metadata": {},
   "source": [
    "## 4. Supervised Learning Concepts\n",
    "Supervised learning maps inputs to known outputs. In digital twins, common tasks include condition monitoring, failure prediction, and parameter estimation.\n",
    "\n",
    "### Algorithms often used for digital twins\n",
    "- **Random Forest**: Handles non-linear relationships, robust to noise.\n",
    "- **Gradient Boosting (XGBoost/LightGBM)**: High accuracy for tabular data.\n",
    "- **Neural Networks**: Capture complex temporal/spatial dynamics in twin simulations.\n",
    "- **Support Vector Machines**: Effective for smaller datasets with clear margins."
   ]
  },
  {
   "cell_type": "code",
   "execution_count": null,
   "id": "46773991",
   "metadata": {},
   "outputs": [],
   "source": [
    "# Classification example: detect anomalous temperature spikes\n",
    "df = data.copy()\n",
    "df['spike_flag'] = (df['cooling_load'] > df['cooling_load'].mean() + 2 * df['cooling_load'].std()).astype(int)\n",
    "\n",
    "X_cls = df[['ambient_temp']]\n",
    "y_cls = df['spike_flag']\n",
    "Xc_train, Xc_test, yc_train, yc_test = train_test_split(X_cls, y_cls, test_size=0.25, random_state=7)\n",
    "\n",
    "clf = RandomForestClassifier(n_estimators=200, random_state=7)\n",
    "clf.fit(Xc_train, yc_train)\n",
    "preds = clf.predict(Xc_test)\n",
    "classification_report(yc_test, preds)"
   ]
  },
  {
   "cell_type": "markdown",
   "id": "2e28610e",
   "metadata": {},
   "source": [
    "### Exercise 4\n",
    "1. Replace `ambient_temp` with two features: `ambient_temp` and `rolling_mean_temp` (`df['ambient_temp'].rolling(window=3).mean().fillna(method='bfill')`).\n",
    "2. Retrain the classifier and observe changes in precision/recall.\n",
    "3. Experiment with `max_depth` and `min_samples_split` in `RandomForestClassifier`."
   ]
  },
  {
   "cell_type": "markdown",
   "id": "c8268b22",
   "metadata": {},
   "source": [
    "## 5. Unsupervised Learning Concepts\n",
    "Unsupervised learning finds structure without labelled outcomes. Useful for clustering equipment behaviour, anomaly detection, and feature learning.\n",
    "\n",
    "### Algorithms\n",
    "- **K-Means**: Cluster similar operating states.\n",
    "- **DBSCAN**: Discover dense regions and outliers.\n",
    "- **Autoencoders**: Learn embeddings for high-dimensional sensor arrays.\n",
    "- **Principal Component Analysis (PCA)**: Reduce dimensionality for monitoring dashboards."
   ]
  },
  {
   "cell_type": "code",
   "execution_count": null,
   "id": "d4dd4df2",
   "metadata": {},
   "outputs": [],
   "source": [
    "# Cluster operating states using K-Means\n",
    "state_df = pd.DataFrame({\n",
    "    'ambient_temp': ambient_temp,\n",
    "    'cooling_load': cooling_load\n",
    "})\n",
    "kmeans = KMeans(n_clusters=3, random_state=42)\n",
    "state_df['state_cluster'] = kmeans.fit_predict(state_df)\n",
    "state_df['state_cluster'].value_counts()"
   ]
  },
  {
   "cell_type": "markdown",
   "id": "7225d9d4",
   "metadata": {},
   "source": [
    "### Exercise 5\n",
    "1. Visualise clusters using `seaborn.scatterplot` or `matplotlib`.\n",
    "2. Change `n_clusters` to 2 and 4 and compare cluster distributions.\n",
    "3. Brainstorm how each cluster could correspond to distinct operating modes in a digital twin scenario."
   ]
  },
  {
   "cell_type": "markdown",
   "id": "8a53008f",
   "metadata": {},
   "source": [
    "## 6. Reinforcement Learning Concepts\n",
    "Reinforcement learning (RL) agents learn actions by interacting with an environment. In digital twins, RL can optimise control policies (e.g., HVAC setpoints).\n",
    "\n",
    "### Key Terms\n",
    "- **State**: Representation of the system (temperature, demand, etc.).\n",
    "- **Action**: Control adjustments (valve opening, fan speed).\n",
    "- **Reward**: Feedback signal (energy saved, comfort maintained).\n",
    "- **Policy**: Strategy mapping states to actions.\n",
    "\n",
    "Below is a compact Q-learning illustration for a thermostat agent."
   ]
  },
  {
   "cell_type": "code",
   "execution_count": null,
   "id": "1d6857df",
   "metadata": {},
   "outputs": [],
   "source": [
    "# Minimal Q-learning loop for a thermostat-like control\n",
    "states = ['cold', 'comfort', 'hot']\n",
    "actions = ['heat', 'idle', 'cool']\n",
    "q_table = pd.DataFrame(0, index=states, columns=actions, dtype=float)\n",
    "transition = {\n",
    "    ('cold', 'heat'): ('comfort', 1),\n",
    "    ('cold', 'idle'): ('cold', -1),\n",
    "    ('cold', 'cool'): ('cold', -2),\n",
    "    ('comfort', 'heat'): ('hot', -1),\n",
    "    ('comfort', 'idle'): ('comfort', 2),\n",
    "    ('comfort', 'cool'): ('cold', -1),\n",
    "    ('hot', 'heat'): ('hot', -2),\n",
    "    ('hot', 'idle'): ('hot', -1),\n",
    "    ('hot', 'cool'): ('comfort', 1)\n",
    "}\n",
    "\n",
    "alpha, gamma, epsilon = 0.1, 0.9, 0.2\n",
    "state = 'comfort'\n",
    "for episode in range(200):\n",
    "    if random.random() < epsilon:\n",
    "        action = random.choice(actions)\n",
    "    else:\n",
    "        action = q_table.loc[state].idxmax()\n",
    "    next_state, reward = transition[(state, action)]\n",
    "    best_future = q_table.loc[next_state].max()\n",
    "    q_table.loc[state, action] += alpha * (reward + gamma * best_future - q_table.loc[state, action])\n",
    "    state = next_state\n",
    "\n",
    "q_table"
   ]
  },
  {
   "cell_type": "markdown",
   "id": "1e47addf",
   "metadata": {},
   "source": [
    "### Exercise 6\n",
    "1. Modify the reward structure to penalise frequent heating/cooling to encourage energy efficiency.\n",
    "2. Track cumulative reward per episode and plot to see learning progress.\n",
    "3. Discuss how to scale this to a simulator-backed digital twin environment (e.g., using `gymnasium`)."
   ]
  },
  {
   "cell_type": "markdown",
   "id": "0b9955fb",
   "metadata": {},
   "source": [
    "## 7. Capstone Task Ideas\n",
    "Tie everything together with mini-projects:\n",
    "- **Capstone A**: Build a baseline digital twin for a smart room that forecasts next-hour temperature using regression and flags anomalies with classification.\n",
    "- **Capstone B**: Cluster multi-sensor data (temperature, vibration, energy) to identify equipment operating states and map them to maintenance actions.\n",
    "- **Capstone C**: Prototype a small RL agent that adjusts HVAC setpoints within a simulated environment for energy savings.\n",
    "\n",
    "Document assumptions, metrics, and visualisations for peer review."
   ]
  },
  {
   "cell_type": "markdown",
   "id": "b2b3364e",
   "metadata": {},
   "source": [
    "## Additional Resources\n",
    "- *Hands-On Machine Learning with Scikit-Learn, Keras & TensorFlow* by Aurélien Géron.\n",
    "- *Digital Twin Driven Smart Design (Elsevier)* for industrial case studies.\n",
    "- Open-source toolkits: `simpy` for discrete-event simulation, `gymnasium` for RL environments."
   ]
  }
 ],
 "metadata": {
  "language_info": {
   "name": "python"
  }
 },
 "nbformat": 4,
 "nbformat_minor": 5
}
